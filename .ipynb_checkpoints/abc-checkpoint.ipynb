{
 "cells": [
  {
   "cell_type": "code",
   "execution_count": 3,
   "metadata": {},
   "outputs": [
    {
     "name": "stdout",
     "output_type": "stream",
     "text": [
      "123 123\n",
      "123\n",
      "123\n",
      "mod\n",
      "104\n",
      "{\n"
     ]
    }
   ],
   "source": [
    "x, y = input().split() \n",
    "print(y)\n",
    "x=int(x)\n",
    "print(x)\n",
    "if(x>=18 and x<20):\n",
    "    print(\"YES\")\n",
    "elif(x>=20):\n",
    "    print(\"mod\")\n",
    "else:\n",
    "    print(\"no\")\n",
    "print(ord('h'))\n",
    "print(chr(x))"
   ]
  },
  {
   "cell_type": "code",
   "execution_count": null,
   "metadata": {},
   "outputs": [],
   "source": []
  }
 ],
 "metadata": {
  "kernelspec": {
   "display_name": "Python 3",
   "language": "python",
   "name": "python3"
  },
  "language_info": {
   "codemirror_mode": {
    "name": "ipython",
    "version": 3
   },
   "file_extension": ".py",
   "mimetype": "text/x-python",
   "name": "python",
   "nbconvert_exporter": "python",
   "pygments_lexer": "ipython3",
   "version": "3.7.3"
  },
  "widgets": {
   "application/vnd.jupyter.widget-state+json": {
    "state": {},
    "version_major": 2,
    "version_minor": 0
   }
  }
 },
 "nbformat": 4,
 "nbformat_minor": 2
}
